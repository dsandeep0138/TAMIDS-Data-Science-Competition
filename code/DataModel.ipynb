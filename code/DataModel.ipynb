{
 "cells": [
  {
   "cell_type": "code",
   "execution_count": null,
   "metadata": {},
   "outputs": [],
   "source": [
    "Flights1 = pd.read_csv('flight_delays_clean2.csv', low_memory=False)"
   ]
  },
  {
   "cell_type": "code",
   "execution_count": null,
   "metadata": {},
   "outputs": [],
   "source": [
    "#Removing the extreme delays delays above 300 minutes incdicates there had been very unusual  circumstances\n",
    "\n",
    "import numpy as np\n",
    "Flights1['ARR_DELAY'] = Flights1['ARR_DELAY'].apply(lambda x:x if x < 150 else np.nan)\n",
    "Flights1.dropna(how = 'any', inplace=True)"
   ]
  },
  {
   "cell_type": "code",
   "execution_count": null,
   "metadata": {},
   "outputs": [],
   "source": [
    "import numpy as np\n",
    "Flights1['ARR_DELAY'] = Flights1['ARR_DELAY'].apply(lambda x:x if x > -100 else np.nan)\n",
    "Flights1.dropna(how = 'any', inplace=True)"
   ]
  },
  {
   "cell_type": "code",
   "execution_count": null,
   "metadata": {},
   "outputs": [],
   "source": [
    "from sklearn.preprocessing import StandardScaler\n",
    "from sklearn.model_selection import train_test_split\n",
    "from sklearn.preprocessing import LabelEncoder\n",
    "from sklearn.linear_model import Lasso,LinearRegression,Ridge\n",
    "from sklearn.tree import DecisionTreeRegressor\n",
    "from sklearn.ensemble import RandomForestRegressor,AdaBoostRegressor,BaggingRegressor\n",
    "from sklearn.metrics import mean_absolute_error,mean_squared_error,r2_score"
   ]
  },
  {
   "cell_type": "code",
   "execution_count": null,
   "metadata": {},
   "outputs": [],
   "source": [
    "Las = Lasso()\n",
    "LinR = LinearRegression()\n",
    "Rid = Ridge()\n",
    "Rfc = RandomForestRegressor(random_state=2)\n",
    "Dtc = DecisionTreeRegressor(random_state = 2)\n",
    "Boost_Lin = AdaBoostRegressor(base_estimator=LinR,random_state=2)\n",
    "Boost_las = AdaBoostRegressor(base_estimator=Las,random_state=2)\n",
    "Boost_rid = AdaBoostRegressor(base_estimator=Rid,random_state=2)\n",
    "Bg_Lin = BaggingRegressor(base_estimator=LinR,random_state=2)\n",
    "Bg_las = BaggingRegressor(base_estimator=Las,random_state=2)\n",
    "Bg_rid = BaggingRegressor(base_estimator=Rid,random_state=2)"
   ]
  },
  {
   "cell_type": "code",
   "execution_count": null,
   "metadata": {},
   "outputs": [],
   "source": [
    "le = LabelEncoder()"
   ]
  },
  {
   "cell_type": "code",
   "execution_count": null,
   "metadata": {},
   "outputs": [],
   "source": [
    "Flights1['CARRIER']= le.fit_transform(Flights1['CARRIER'])\n",
    "Flights1['ORIGIN'] = le.fit_transform(Flights1['ORIGIN'])\n",
    "Flights1['DEST'] = le.fit_transform(Flights1['DEST'])"
   ]
  },
  {
   "cell_type": "code",
   "execution_count": null,
   "metadata": {},
   "outputs": [],
   "source": [
    "df_train = Flights1[Flights1['FL_DATE'] <= '2019-03-31']\n",
    "df_test = Flights1[Flights1['FL_DATE'] > '2019-03-31']\n",
    "print(\"Shape of train Data: \", df_train.shape)\n",
    "print(\"Shape of test Data: \", df_test.shape)"
   ]
  },
  {
   "cell_type": "code",
   "execution_count": null,
   "metadata": {},
   "outputs": [],
   "source": [
    "X_train = df_train.drop(['ARR_DELAY', 'ARR_TIME', 'FL_DATE'], axis = 1)\n",
    "Y_train = df_train['ARR_DELAY']\n",
    "\n",
    "X_test =  df_test.drop(['ARR_DELAY', 'ARR_TIME', 'FL_DATE'], axis = 1)\n",
    "Y_test = df_test['ARR_DELAY']"
   ]
  },
  {
   "cell_type": "code",
   "execution_count": null,
   "metadata": {},
   "outputs": [],
   "source": [
    "sc1=StandardScaler()\n",
    "X_train_sc=sc1.fit_transform(X_train)\n",
    "X_test_sc=sc1.transform(X_test)"
   ]
  },
  {
   "cell_type": "code",
   "execution_count": null,
   "metadata": {},
   "outputs": [],
   "source": [
    "#,'Lasso','Linear Regression','Ridge','Random forest Regressor','Decision Tree Regressor','Boosted Linear',\n",
    "#     'Boosted Lasso','Boosted Ridge','Bagged Linear','Bagged Lasso','Bagged Ridge'\n",
    "#for model, name in zip([Las,LinR,Rid,Dtc,Rfc,Boost_Lin,Boost_las,Boost_rid,Bg_Lin,Bg_las,Bg_rid], \n",
    "#     ['Lasso','Linear Regression','Ridge','Random forest Regressor','Decision Tree Regressor','Boosted Linear','Boosted Lasso','Boosted Ridge','Bagged Linear','Bagged Lasso','Bagged Ridge']):\n",
    "for model, name in zip([Dtc,Boost_Lin,Boost_las,Boost_rid,Bg_Lin,Bg_las,Bg_rid], \n",
    "     ['Decision Tree Regressor','Boosted Linear','Boosted Lasso','Boosted Ridge','Bagged Linear','Bagged Lasso','Bagged Ridge']):\n",
    " \n",
    "    model1 = model.fit(X_train_sc,Y_train)\n",
    "    Y_predict=model1.predict(X_test_sc)\n",
    "    print(name)\n",
    "    print('Mean Absolute Error:', mean_absolute_error(Y_test, Y_predict))  \n",
    "    print('Mean Squared Error:', mean_squared_error(Y_test, Y_predict))  \n",
    "    print('Root Mean Squared Error:', np.sqrt(mean_squared_error(Y_test, Y_predict)))\n",
    "    print('R2 : ',r2_score(Y_test, Y_predict))\n",
    "    print()"
   ]
  }
 ],
 "metadata": {
  "kernelspec": {
   "display_name": "Python 3",
   "language": "python",
   "name": "python3"
  },
  "language_info": {
   "codemirror_mode": {
    "name": "ipython",
    "version": 3
   },
   "file_extension": ".py",
   "mimetype": "text/x-python",
   "name": "python",
   "nbconvert_exporter": "python",
   "pygments_lexer": "ipython3",
   "version": "3.7.6"
  }
 },
 "nbformat": 4,
 "nbformat_minor": 2
}
